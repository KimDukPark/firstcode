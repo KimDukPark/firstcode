{
  "nbformat": 4,
  "nbformat_minor": 0,
  "metadata": {
    "colab": {
      "provenance": [],
      "authorship_tag": "ABX9TyNGG2fF7WUC8qQQfoU0+77e",
      "include_colab_link": true
    },
    "kernelspec": {
      "name": "python3",
      "display_name": "Python 3"
    },
    "language_info": {
      "name": "python"
    }
  },
  "cells": [
    {
      "cell_type": "markdown",
      "metadata": {
        "id": "view-in-github",
        "colab_type": "text"
      },
      "source": [
        "<a href=\"https://colab.research.google.com/github/KimDukPark/firstcode/blob/main/My1st_Code.ipynb\" target=\"_parent\"><img src=\"https://colab.research.google.com/assets/colab-badge.svg\" alt=\"Open In Colab\"/></a>"
      ]
    },
    {
      "cell_type": "markdown",
      "source": [
        "1.나의 생애 첫 코드작성(hello.world)\n"
      ],
      "metadata": {
        "id": "l8Fg1afUhAvD"
      }
    },
    {
      "cell_type": "code",
      "execution_count": 3,
      "metadata": {
        "colab": {
          "base_uri": "https://localhost:8080/"
        },
        "id": "sKR36_1QcT0W",
        "outputId": "2915eb4c-225e-4bc9-f6e8-f2fbd86a3593"
      },
      "outputs": [
        {
          "output_type": "stream",
          "name": "stdout",
          "text": [
            "hello world\n"
          ]
        }
      ],
      "source": [
        "print (\"hello world\")"
      ]
    },
    {
      "cell_type": "markdown",
      "source": [
        "2. 사칙연산(+,-,*,/)"
      ],
      "metadata": {
        "id": "IHWLgMa6kEtb"
      }
    },
    {
      "cell_type": "code",
      "source": [
        "print(4+4, 4-2, 4*4, 4//2)"
      ],
      "metadata": {
        "colab": {
          "base_uri": "https://localhost:8080/"
        },
        "id": "qyv4O3dkkRLS",
        "outputId": "b69d355c-6edc-4c63-f62b-be66449ec8de"
      },
      "execution_count": 6,
      "outputs": [
        {
          "output_type": "stream",
          "name": "stdout",
          "text": [
            "8 2 16 2\n"
          ]
        }
      ]
    }
  ]
}